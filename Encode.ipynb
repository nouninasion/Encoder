{
  "nbformat": 4,
  "nbformat_minor": 0,
  "metadata": {
    "colab": {
      "provenance": [],
      "gpuType": "T4"
    },
    "kernelspec": {
      "name": "python3",
      "display_name": "Python 3"
    },
    "language_info": {
      "name": "python"
    },
    "accelerator": "GPU"
  },
  "cells": [
    {
      "cell_type": "markdown",
      "source": [
        "LabelEncoder"
      ],
      "metadata": {
        "id": "b0WqFkVMA6zu"
      }
    },
    {
      "cell_type": "code",
      "execution_count": 6,
      "metadata": {
        "colab": {
          "base_uri": "https://localhost:8080/"
        },
        "id": "FuWiif6GAtPd",
        "outputId": "e92746db-90e4-4113-9ac4-86610a870f72"
      },
      "outputs": [
        {
          "output_type": "stream",
          "name": "stdout",
          "text": [
            "['Baik :', np.int64(1), 'Asik :', np.int64(0), 'Nakal :', np.int64(2)]\n"
          ]
        }
      ],
      "source": [
        "from sklearn.preprocessing import LabelEncoder\n",
        "\n",
        "encoder = LabelEncoder()\n",
        "encoder.fit(['Asik', 'Baik', 'Nakal'])\n",
        "\n",
        "test = encoder.transform(['Baik', 'Asik', 'Nakal'])\n",
        "\n",
        "print([\n",
        "    'Baik :', test[0],\n",
        "    'Asik :', test[1],\n",
        "    'Nakal :', test[2]\n",
        "])\n"
      ]
    },
    {
      "cell_type": "markdown",
      "source": [
        "OrdinalEncoder"
      ],
      "metadata": {
        "id": "8QNYsiyCDLIP"
      }
    },
    {
      "cell_type": "code",
      "source": [
        "from sklearn.preprocessing import OrdinalEncoder\n",
        "\n",
        "ord = OrdinalEncoder(categories=[['Asik', 'Baik', 'Nakal']])\n",
        "ord.fit([['Asik'], ['Baik'], ['Nakal']])\n",
        "\n",
        "test = ord.transform([['Baik'], ['Asik'], ['Nakal']])\n",
        "\n",
        "print([\n",
        "    'Baik :', test[0],\n",
        "    'Asik :', test[1],\n",
        "    'Nakal :', test[2]\n",
        "])"
      ],
      "metadata": {
        "colab": {
          "base_uri": "https://localhost:8080/"
        },
        "id": "88xHyLF_DJmH",
        "outputId": "b9424884-4a80-40d6-dfca-26261aff0757"
      },
      "execution_count": 7,
      "outputs": [
        {
          "output_type": "stream",
          "name": "stdout",
          "text": [
            "['Baik :', array([1.]), 'Asik :', array([0.]), 'Nakal :', array([2.])]\n"
          ]
        }
      ]
    },
    {
      "cell_type": "markdown",
      "source": [
        "OneHotEncoding"
      ],
      "metadata": {
        "id": "2wnwn0WNDe8b"
      }
    },
    {
      "cell_type": "code",
      "source": [
        "from sklearn.preprocessing import OneHotEncoder\n",
        "import pandas as pd\n",
        "\n",
        "data = pd.DataFrame({\n",
        "    'Condition': ['Poor', 'Fair', 'Good', 'Excellent']\n",
        "})\n",
        "\n",
        "encoder = OneHotEncoder()\n",
        "\n",
        "encoded = encoder.fit_transform(data)\n",
        "\n",
        "print(encoded)\n",
        "\n",
        "print(encoder.get_feature_names_out())\n",
        "\n",
        "\n"
      ],
      "metadata": {
        "colab": {
          "base_uri": "https://localhost:8080/"
        },
        "id": "xyQM9Bd6DWvO",
        "outputId": "59a41cda-7df9-47f0-e042-2a210a81cf53"
      },
      "execution_count": 9,
      "outputs": [
        {
          "output_type": "stream",
          "name": "stdout",
          "text": [
            "<Compressed Sparse Row sparse matrix of dtype 'float64'\n",
            "\twith 4 stored elements and shape (4, 4)>\n",
            "  Coords\tValues\n",
            "  (0, 3)\t1.0\n",
            "  (1, 1)\t1.0\n",
            "  (2, 2)\t1.0\n",
            "  (3, 0)\t1.0\n",
            "['Condition_Excellent' 'Condition_Fair' 'Condition_Good' 'Condition_Poor']\n"
          ]
        }
      ]
    },
    {
      "cell_type": "markdown",
      "source": [
        "Mapping(TRUE and FALSE recomended)"
      ],
      "metadata": {
        "id": "6vaSkmChD3Ne"
      }
    },
    {
      "cell_type": "code",
      "source": [
        "import pandas as pd\n",
        "\n",
        "dat = pd.DataFrame({\n",
        "    'Garage': ['Yes', 'No', 'Yes', 'No', 'Yes']\n",
        "})\n",
        "\n",
        "dat['Garage'] = dat['Garage'].map({'Yes': 1, 'No': 0})\n",
        "\n",
        "print(dat)\n"
      ],
      "metadata": {
        "colab": {
          "base_uri": "https://localhost:8080/"
        },
        "id": "DbO6x5JcDtBd",
        "outputId": "3db5e2b3-dcf9-4bd7-bf93-23ec41efe550"
      },
      "execution_count": 10,
      "outputs": [
        {
          "output_type": "stream",
          "name": "stdout",
          "text": [
            "   Garage\n",
            "0       1\n",
            "1       0\n",
            "2       1\n",
            "3       0\n",
            "4       1\n"
          ]
        }
      ]
    }
  ]
}